{
 "metadata": {
  "language_info": {
   "codemirror_mode": {
    "name": "ipython",
    "version": 3
   },
   "file_extension": ".py",
   "mimetype": "text/x-python",
   "name": "python",
   "nbconvert_exporter": "python",
   "pygments_lexer": "ipython3",
   "version": "3.8.3"
  },
  "orig_nbformat": 4,
  "kernelspec": {
   "name": "python3",
   "display_name": "Python 3.8.3 64-bit ('base': conda)"
  },
  "interpreter": {
   "hash": "5ce8f7e1a65270a9a52111c8281a701c62f24038c5333d6712e533aaa6ddee7b"
  }
 },
 "nbformat": 4,
 "nbformat_minor": 2,
 "cells": [
  {
   "cell_type": "code",
   "execution_count": 4,
   "metadata": {},
   "outputs": [],
   "source": [
    "import pandas as pd\n",
    "import numpy as np\n",
    "import tensorflow as tf\n",
    "import plotly.express as px\n",
    "import ee\n",
    "from ee import data, image\n",
    "from pprint import pprint"
   ]
  },
  {
   "cell_type": "code",
   "execution_count": 2,
   "metadata": {},
   "outputs": [],
   "source": [
    "ee.Initialize()"
   ]
  },
  {
   "cell_type": "code",
   "execution_count": 3,
   "metadata": {},
   "outputs": [],
   "source": [
    "def getData():\n",
    "    data={}\n",
    "    #Carbon monoxide\n",
    "    image=ee.ImageCollection(\"COPERNICUS/S5P/NRTI/L3_CO\")\n",
    "    vis_params = {\n",
    "        \"min\": 0,\n",
    "        \"max\": 0.05,\n",
    "        \"palette\": ['black', 'blue', 'purple', 'cyan', 'green', 'yellow', 'red']\n",
    "    }\n",
    "    data['CO']={'image':image,'vis_params':vis_params,'param':'CO_column_number_density'}\n",
    "    #Nitrogen Dioxide\n",
    "    image=ee.ImageCollection(\"COPERNICUS/S5P/NRTI/L3_NO2\")\n",
    "    vis_params = {\n",
    "        \"min\": 0,\n",
    "        \"max\": 0.0002,\n",
    "        \"palette\": ['black', 'blue', 'purple', 'cyan', 'green', 'yellow', 'red']\n",
    "    }\n",
    "    data['NO2']={'image':image,'vis_params':vis_params,'param':'NO2_column_number_density'}\n",
    "    #Ozone\n",
    "    image=ee.ImageCollection(\"COPERNICUS/S5P/NRTI/L3_O3\")\n",
    "    vis_params = {\n",
    "        \"min\": 0.12,\n",
    "        \"max\": 0.15,\n",
    "        \"palette\": ['black', 'blue', 'purple', 'cyan', 'green', 'yellow', 'red']\n",
    "    }\n",
    "    data['o3']={'image':image,'vis_params':vis_params,'param':'O3_column_number_density'}\n",
    "    #Sulfur dioxide\n",
    "    image=ee.ImageCollection(\"COPERNICUS/S5P/NRTI/L3_SO2\")\n",
    "    vis_params = {\n",
    "        \"min\": 0.0,\n",
    "        \"max\": 0.0005,\n",
    "        \"palette\": ['black', 'blue', 'purple', 'cyan', 'green', 'yellow', 'red']\n",
    "    }\n",
    "    data['SO2']={'image':image,'vis_params':vis_params,'param':'SO2_column_number_density'}\n",
    "    \n",
    "    return data"
   ]
  },
  {
   "cell_type": "code",
   "execution_count": 7,
   "metadata": {},
   "outputs": [
    {
     "output_type": "error",
     "ename": "TypeError",
     "evalue": "'module' object is not callable",
     "traceback": [
      "\u001b[1;31m---------------------------------------------------------------------------\u001b[0m",
      "\u001b[1;31mTypeError\u001b[0m                                 Traceback (most recent call last)",
      "\u001b[1;32m<ipython-input-7-ac9f9dedbc2e>\u001b[0m in \u001b[0;36m<module>\u001b[1;34m\u001b[0m\n\u001b[0;32m      1\u001b[0m \u001b[0mdata\u001b[0m\u001b[1;33m=\u001b[0m\u001b[0mgetData\u001b[0m\u001b[1;33m(\u001b[0m\u001b[1;33m)\u001b[0m\u001b[1;33m\u001b[0m\u001b[1;33m\u001b[0m\u001b[0m\n\u001b[1;32m----> 2\u001b[1;33m \u001b[0mpprint\u001b[0m\u001b[1;33m(\u001b[0m\u001b[0mdata\u001b[0m\u001b[1;33m)\u001b[0m\u001b[1;33m\u001b[0m\u001b[1;33m\u001b[0m\u001b[0m\n\u001b[0m",
      "\u001b[1;31mTypeError\u001b[0m: 'module' object is not callable"
     ]
    }
   ],
   "source": [
    "data=getData()\n",
    "pprint(data)"
   ]
  },
  {
   "cell_type": "code",
   "execution_count": null,
   "metadata": {},
   "outputs": [],
   "source": []
  }
 ]
}